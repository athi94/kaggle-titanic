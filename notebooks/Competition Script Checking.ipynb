{
 "cells": [
  {
   "cell_type": "code",
   "execution_count": 144,
   "metadata": {
    "collapsed": true
   },
   "outputs": [],
   "source": [
    "import numpy as np\n",
    "import pandas as pd\n",
    "import seaborn as sns\n",
    "from sklearn.ensemble import RandomForestClassifier, AdaBoostClassifier, GradientBoostingClassifier\n",
    "from sklearn.svm import SVC\n",
    "from sklearn.model_selection import cross_val_score, StratifiedKFold, GridSearchCV\n",
    "from sklearn.preprocessing import MinMaxScaler"
   ]
  },
  {
   "cell_type": "code",
   "execution_count": 145,
   "metadata": {
    "collapsed": true
   },
   "outputs": [],
   "source": [
    "class FeatureEngineering():\n",
    "    def __init__(self):\n",
    "        self._cabinKnown = False\n",
    "        self._title = False\n",
    "        self._familySize = False\n",
    "        self._isMinor = False\n",
    "        self._isMinorThresh = 0\n",
    "\n",
    "    def _familyCategorise(self, s):\n",
    "        if s>= 4:\n",
    "            return 'large'\n",
    "        if s == 0:\n",
    "            return 'alone'\n",
    "        if s > 0 and s < 4:\n",
    "            return 'normal'\n",
    "    \n",
    "\n",
    "    def cabinKnown(self, df):\n",
    "        self._cabinKnown = True\n",
    "        return pd.Categorical(df['Cabin'].isnull() == False)\n",
    "\n",
    "\n",
    "    def title(self, df):\n",
    "        self._title = True\n",
    "        titles = df['Name'].str.split(\", \", expand=True)[1].str.split(\".\", expand=True)[0]\n",
    "\n",
    "        mr_alias = ['Don', 'Rev', 'Dr', 'Major', 'Sir', 'Col', 'Capt', 'Jonkheer']\n",
    "        miss_alias = ['Mlle', 'Ms']\n",
    "        mrs_alias = ['Mme', 'Lady', 'the Countess', 'Dona']\n",
    "\n",
    "        titles[titles.isin(mr_alias)] = 'Mr'\n",
    "        titles[titles.isin(miss_alias)] = 'Miss'\n",
    "        titles[titles.isin(mrs_alias)] = 'Mrs'\n",
    "        return titles.astype('category')\n",
    "\n",
    "\n",
    "    def familySize(self, df):\n",
    "        self._familySize = True\n",
    "        family = df['Parch'] + df['SibSp']\n",
    "        return pd.Categorical(list(map(self._familyCategorise, family)), ordered=True)\n",
    "\n",
    "\n",
    "    def isMinor(self, df, threshold):\n",
    "        # Try thresholds 14 and 9 to start off with, aim is to balanced \n",
    "        # maximising difference between groups while also capturing \n",
    "        # most information possible\n",
    "        self._isMinor = True\n",
    "        self._isMinorThresh = threshold\n",
    "        return pd.Categorical(np.digitize(df['Age'], [threshold, 0]))\n",
    "\n",
    "\n",
    "    def getSummary(self):\n",
    "        s = \"cabinKnown:\\t\\t{}\\ntitle:\\t\\t\\t{}\\nfamilySize:\\t\\t{}\\nisMinor (age < {}):\\t{}\".format(\n",
    "            self._cabinKnown, self._title, self._familySize, self._isMinorThresh, self._isMinor)\n",
    "        \n",
    "        return s"
   ]
  },
  {
   "cell_type": "code",
   "execution_count": 111,
   "metadata": {
    "collapsed": true
   },
   "outputs": [],
   "source": [
    "FE = FeatureEngineering()\n",
    "\n",
    "def engineer_features(df):\n",
    "    print(\"Engineering Features...\")\n",
    "    ndf = df.copy()\n",
    "    ndf['CabinKnown'] = FE.cabinKnown(ndf)\n",
    "    ndf['Title'] = FE.title(ndf)\n",
    "    ndf['FamilySize'] = FE.familySize(ndf)\n",
    "    ndf['IsMinor'] = FE.isMinor(ndf, 14)\n",
    "    print(''.join(['\\t' + ln for ln in FE.getSummary().splitlines(True)]))\n",
    "    return ndf\n",
    "\n",
    "\n",
    "def fill_missing(df):\n",
    "    print(\"Filling missing values ...\")\n",
    "    ndf = df.copy()\n",
    "    # Fill missing Fare with median of the corresponding Passenger Class\n",
    "    missing_fares = ndf[ndf['Fare'].isnull()].index.tolist()\n",
    "\n",
    "    for fare in missing_fares:\n",
    "        pclass = ndf.iloc[fare]['Pclass']\n",
    "        ndf.set_value(fare, 'Fare', ndf[ndf['Pclass'] == pclass]['Fare'].mean())\n",
    "\n",
    "    print('\\tFare:\\t\\t\\tMean of Corresponding Pclass')\n",
    "\n",
    "    # Fill missing locations with most common\n",
    "    missing_embarks = ndf[ndf['Embarked'].isnull()].index.tolist()\n",
    "    mcl = ndf['Embarked'].value_counts().idxmax()\n",
    "    for eb in missing_embarks:\n",
    "        ndf.set_value(eb, 'Embarked', mcl)\n",
    "\n",
    "    print('\\tEmbarked:\\t\\tMode of Embarked')\n",
    "    return ndf\n",
    "\n",
    "\n",
    "def transform_features(df):\n",
    "    print(\"Transforming features...\")\n",
    "    ndf = df.copy()\n",
    "    ndf['Fare'] = df[\"Fare\"].map(lambda i: np.log(i) if i > 0 else 0)\n",
    "    print(\"\\tFare:\\t\\t\\tlog\")\n",
    "    return ndf\n",
    "\n",
    "\n",
    "def prep_data_for_tree_model(df):\n",
    "    print(\"Prepping data for model training... no dummies, all cat to codes\")\n",
    "    ndf = pd.DataFrame(df['PassengerId'])\n",
    "    # Pclass (ordered cat)\n",
    "    ndf['Pclass'] = pd.to_numeric(df['Pclass'])\n",
    "    # Sex (binary cat)\n",
    "    ndf['IsMale'] = df['Sex'].cat.codes\n",
    "    # Fare (num)\n",
    "    ndf['Fare'] = df['Fare']\n",
    "    # Embarked (unordered multilevel cat)\n",
    "    ndf['Embarked'] = df['Embarked'].cat.codes\n",
    "    # CabinKnown (binary cat)\n",
    "    ndf['CabinKnown'] = df['CabinKnown'].cat.codes\n",
    "    # Title (unordered multilevel cat)\n",
    "    ndf['Title'] = df['Title'].cat.codes\n",
    "    # FamilySize (ordered cat)\n",
    "    ndf['FamilySize'] = df['FamilySize'].cat.codes\n",
    "    # isMinor (binary cat)\n",
    "    ndf['IsMinor'] = df['IsMinor'].cat.codes\n",
    "    return ndf\n",
    "\n",
    "\n",
    "def prep_data_for_sv_model(df):\n",
    "    print(\"Prepping data for scale variant model training...\")\n",
    "    ndf = pd.DataFrame(df['PassengerId'])\n",
    "    # Pclass (ordered cat)\n",
    "    ndf = pd.concat([ndf, pd.get_dummies(df['Pclass'], prefix='Pclass')], axis=1)\n",
    "    # Sex (binary cat)\n",
    "    ndf = pd.concat([ndf, pd.get_dummies(df['Sex'], prefix='Sex')], axis=1)\n",
    "    # Fare (num)\n",
    "    ndf['Fare'] = df['Fare']\n",
    "    # Embarked (unordered multilevel cat)\n",
    "    ndf = pd.concat([ndf, pd.get_dummies(df['Embarked'], prefix='Embarked')], axis=1)\n",
    "    # CabinKnown (binary cat)\n",
    "    ndf = pd.concat([ndf, pd.get_dummies(df['CabinKnown'], prefix='CabinKnown')], axis=1)\n",
    "    # Title (unordered multilevel cat)\n",
    "    ndf = pd.concat([ndf, pd.get_dummies(df['Title'], prefix='Title')], axis=1)\n",
    "    # FamilySize (ordered multilevel cat)\n",
    "    ndf = pd.concat([ndf, pd.get_dummies(df['FamilySize'], prefix='FamilySize')], axis=1)\n",
    "    # isMinor (binary cat)\n",
    "    ndf = pd.concat([ndf, pd.get_dummies(df['IsMinor'], prefix='IsMinor')], axis=1)\n",
    "    return ndf\n",
    "\n",
    "\n",
    "def coerce_types(df):\n",
    "    ndf = df.copy()\n",
    "    ndf.Pclass = ndf.Pclass.astype(\"category\", categories=[1, 2, 3], ordered=True)\n",
    "    ndf.Sex = ndf.Sex.astype(\"category\")\n",
    "    ndf.Embarked = ndf.Embarked.astype(\"category\")\n",
    "    return ndf\n",
    "\n",
    "\n",
    "def naSummary(df):\n",
    "    return df.isnull().sum()"
   ]
  },
  {
   "cell_type": "code",
   "execution_count": 146,
   "metadata": {},
   "outputs": [
    {
     "name": "stdout",
     "output_type": "stream",
     "text": [
      "Engineering Features...\n",
      "\tcabinKnown:\t\tTrue\n",
      "\ttitle:\t\t\tTrue\n",
      "\tfamilySize:\t\tTrue\n",
      "\tisMinor (age < 14):\tTrue\n",
      "Filling missing values ...\n",
      "\tFare:\t\t\tMean of Corresponding Pclass\n",
      "\tEmbarked:\t\tMode of Embarked\n",
      "Transforming features...\n",
      "\tFare:\t\t\tlog\n",
      "Prepping data for model training... no dummies, all cat to codes\n",
      "Prepping data for scale variant model training...\n"
     ]
    }
   ],
   "source": [
    "train = pd.read_csv('../input/train_pp.csv')\n",
    "test = pd.read_csv('../input/test_pp.csv')\n",
    "\n",
    "combine = pd.concat([train.drop('Survived', 1), test])\n",
    "combine.reset_index(inplace=True, drop=True) \n",
    "combine = coerce_types(combine)\n",
    "\n",
    "combine = engineer_features(combine)\n",
    "combine = fill_missing(combine)\n",
    "\n",
    "combine = transform_features(combine)\n",
    "combine_tree = prep_data_for_tree_model(combine)\n",
    "combine_svm = prep_data_for_sv_model(combine)\n",
    "\n",
    "X_train = combine_tree[:len(train)].drop('PassengerId', axis=1)\n",
    "X_test = combine_tree[len(train):].drop('PassengerId', axis=1)\n",
    "y_train = train['Survived']"
   ]
  },
  {
   "cell_type": "code",
   "execution_count": 5,
   "metadata": {
    "collapsed": true
   },
   "outputs": [],
   "source": [
    "seed = 7\n",
    "folds = 10\n",
    "\n",
    "skf = StratifiedKFold(n_splits=folds)\n",
    "rfc = RandomForestClassifier(random_state=seed, n_estimators=500, max_depth=6, min_samples_leaf=2, max_features='sqrt', warm_start=True)\n",
    "\n",
    "rfc_scores = cross_val_score(rfc, X=X_train, y=y_train, cv=skf, n_jobs=-1)"
   ]
  },
  {
   "cell_type": "code",
   "execution_count": 6,
   "metadata": {},
   "outputs": [
    {
     "data": {
      "text/plain": [
       "array([ 0.78888889,  0.85555556,  0.75280899,  0.87640449,  0.87640449,\n",
       "        0.83146067,  0.82022472,  0.78651685,  0.86516854,  0.82954545])"
      ]
     },
     "execution_count": 6,
     "metadata": {},
     "output_type": "execute_result"
    }
   ],
   "source": [
    "rfc_scores"
   ]
  },
  {
   "cell_type": "code",
   "execution_count": 7,
   "metadata": {},
   "outputs": [
    {
     "data": {
      "text/html": [
       "<div>\n",
       "<style>\n",
       "    .dataframe thead tr:only-child th {\n",
       "        text-align: right;\n",
       "    }\n",
       "\n",
       "    .dataframe thead th {\n",
       "        text-align: left;\n",
       "    }\n",
       "\n",
       "    .dataframe tbody tr th {\n",
       "        vertical-align: top;\n",
       "    }\n",
       "</style>\n",
       "<table border=\"1\" class=\"dataframe\">\n",
       "  <thead>\n",
       "    <tr style=\"text-align: right;\">\n",
       "      <th></th>\n",
       "      <th>Model</th>\n",
       "      <th>Score</th>\n",
       "    </tr>\n",
       "  </thead>\n",
       "  <tbody>\n",
       "    <tr>\n",
       "      <th>0</th>\n",
       "      <td>RandomForest</td>\n",
       "      <td>0.788889</td>\n",
       "    </tr>\n",
       "    <tr>\n",
       "      <th>1</th>\n",
       "      <td>RandomForest</td>\n",
       "      <td>0.855556</td>\n",
       "    </tr>\n",
       "    <tr>\n",
       "      <th>2</th>\n",
       "      <td>RandomForest</td>\n",
       "      <td>0.752809</td>\n",
       "    </tr>\n",
       "    <tr>\n",
       "      <th>3</th>\n",
       "      <td>RandomForest</td>\n",
       "      <td>0.876404</td>\n",
       "    </tr>\n",
       "    <tr>\n",
       "      <th>4</th>\n",
       "      <td>RandomForest</td>\n",
       "      <td>0.876404</td>\n",
       "    </tr>\n",
       "    <tr>\n",
       "      <th>5</th>\n",
       "      <td>RandomForest</td>\n",
       "      <td>0.831461</td>\n",
       "    </tr>\n",
       "    <tr>\n",
       "      <th>6</th>\n",
       "      <td>RandomForest</td>\n",
       "      <td>0.820225</td>\n",
       "    </tr>\n",
       "    <tr>\n",
       "      <th>7</th>\n",
       "      <td>RandomForest</td>\n",
       "      <td>0.786517</td>\n",
       "    </tr>\n",
       "    <tr>\n",
       "      <th>8</th>\n",
       "      <td>RandomForest</td>\n",
       "      <td>0.865169</td>\n",
       "    </tr>\n",
       "    <tr>\n",
       "      <th>9</th>\n",
       "      <td>RandomForest</td>\n",
       "      <td>0.829545</td>\n",
       "    </tr>\n",
       "  </tbody>\n",
       "</table>\n",
       "</div>"
      ],
      "text/plain": [
       "          Model     Score\n",
       "0  RandomForest  0.788889\n",
       "1  RandomForest  0.855556\n",
       "2  RandomForest  0.752809\n",
       "3  RandomForest  0.876404\n",
       "4  RandomForest  0.876404\n",
       "5  RandomForest  0.831461\n",
       "6  RandomForest  0.820225\n",
       "7  RandomForest  0.786517\n",
       "8  RandomForest  0.865169\n",
       "9  RandomForest  0.829545"
      ]
     },
     "execution_count": 7,
     "metadata": {},
     "output_type": "execute_result"
    }
   ],
   "source": [
    "scores = pd.DataFrame(columns=['Model', 'CV Score'])\n",
    "\n",
    "pd.DataFrame({'Model': np.repeat('RandomForest', 10), 'Score': rfc_scores})\n",
    "\n",
    "# for sc in rfc_scores:\n",
    "#     scores.append(pd.DataFrame(['RandomForest', sc]))\n",
    "    \n",
    "# scores"
   ]
  },
  {
   "cell_type": "code",
   "execution_count": 8,
   "metadata": {},
   "outputs": [
    {
     "name": "stdout",
     "output_type": "stream",
     "text": [
      "Scoring...  RandomForest  AdaBoost  GradientBoosting  "
     ]
    }
   ],
   "source": [
    "seed = 7\n",
    "folds = 10\n",
    "\n",
    "skf = StratifiedKFold(n_splits=folds)\n",
    "scores = pd.DataFrame(columns=['Model', 'CV Score'])\n",
    "\n",
    "classifiers = {\n",
    "    'RandomForest': RandomForestClassifier(random_state=seed, n_estimators=500, max_depth=6, min_samples_leaf=2, max_features='sqrt'),\n",
    "    'AdaBoost': AdaBoostClassifier(random_state = seed, n_estimators=500, learning_rate=0.75),\n",
    "    'GradientBoosting': GradientBoostingClassifier(random_state=seed, n_estimators=500, max_depth=5, min_samples_leaf=2, verbose=0)\n",
    "}\n",
    "\n",
    "print(\"Scoring...  \", end='')\n",
    "for c in classifiers:\n",
    "    print(c, end='  ')\n",
    "    mdl_scores = cross_val_score(classifiers[c], X=X_train, y=y_train, cv=skf, n_jobs=-1)\n",
    "    scores = scores.append(pd.DataFrame({'Model': np.repeat(c, folds), 'CV Score': mdl_scores}))"
   ]
  },
  {
   "cell_type": "code",
   "execution_count": 9,
   "metadata": {},
   "outputs": [
    {
     "data": {
      "image/png": "[encoded data removed]",
      "text/plain": [
       "<matplotlib.figure.Figure at 0x11516b828>"
      ]
     },
     "metadata": {},
     "output_type": "display_data"
    }
   ],
   "source": [
    "%matplotlib inline\n",
    "p = sns.barplot(x='CV Score', y='Model', ci=\"sd\", data=scores)"
   ]
  },
  {
   "cell_type": "code",
   "execution_count": 149,
   "metadata": {},
   "outputs": [
    {
     "name": "stdout",
     "output_type": "stream",
     "text": [
      "Fitting 10 folds for each of 729 candidates, totalling 7290 fits\n"
     ]
    },
    {
     "name": "stderr",
     "output_type": "stream",
     "text": [
      "[Parallel(n_jobs=-1)]: Done  34 tasks      | elapsed:    8.0s\n",
      "[Parallel(n_jobs=-1)]: Done 184 tasks      | elapsed:   37.3s\n",
      "[Parallel(n_jobs=-1)]: Done 434 tasks      | elapsed:  1.6min\n",
      "[Parallel(n_jobs=-1)]: Done 784 tasks      | elapsed:  2.8min\n",
      "[Parallel(n_jobs=-1)]: Done 1234 tasks      | elapsed:  4.3min\n",
      "[Parallel(n_jobs=-1)]: Done 1784 tasks      | elapsed:  6.1min\n",
      "[Parallel(n_jobs=-1)]: Done 2434 tasks      | elapsed:  8.3min\n",
      "[Parallel(n_jobs=-1)]: Done 3184 tasks      | elapsed: 10.9min\n",
      "[Parallel(n_jobs=-1)]: Done 4034 tasks      | elapsed: 13.7min\n",
      "[Parallel(n_jobs=-1)]: Done 4984 tasks      | elapsed: 17.1min\n",
      "[Parallel(n_jobs=-1)]: Done 6034 tasks      | elapsed: 20.7min\n",
      "[Parallel(n_jobs=-1)]: Done 7184 tasks      | elapsed: 24.5min\n",
      "[Parallel(n_jobs=-1)]: Done 7290 out of 7290 | elapsed: 24.9min finished\n"
     ]
    },
    {
     "data": {
      "text/plain": [
       "GridSearchCV(cv=StratifiedKFold(n_splits=10, random_state=None, shuffle=False),\n",
       "       error_score='raise',\n",
       "       estimator=RandomForestClassifier(bootstrap=True, class_weight=None, criterion='gini',\n",
       "            max_depth=None, max_features='auto', max_leaf_nodes=None,\n",
       "            min_impurity_split=1e-07, min_samples_leaf=1,\n",
       "            min_samples_split=2, min_weight_fraction_leaf=0.0,\n",
       "            n_estimators=10, n_jobs=1, oob_score=False, random_state=None,\n",
       "            verbose=0, warm_start=False),\n",
       "       fit_params={}, iid=True, n_jobs=-1,\n",
       "       param_grid={'max_depth': [2, 3, 4, 5, 6, 7, 8, 9, 10], 'warm_start': [False], 'n_estimators': [500], 'min_samples_leaf': [2, 3, 4, 5, 6, 7, 8, 9, 10], 'min_samples_split': [2, 3, 4, 5, 6, 7, 8, 9, 10], 'random_state': [7]},\n",
       "       pre_dispatch='2*n_jobs', refit=True, return_train_score=True,\n",
       "       scoring=None, verbose=1)"
      ]
     },
     "execution_count": 149,
     "metadata": {},
     "output_type": "execute_result"
    }
   ],
   "source": [
    "# RFC Tuning\n",
    "\n",
    "rfc = RandomForestClassifier()\n",
    "\n",
    "rfc_params = {\n",
    "    \"max_depth\": [2, 3, 4, 5, 6, 7, 8, 9, 10],\n",
    "    \"warm_start\": [False],\n",
    "    \"n_estimators\": [500],\n",
    "    \"min_samples_leaf\": [2, 3, 4, 5, 6, 7, 8, 9, 10],\n",
    "    \"min_samples_split\": [2, 3, 4, 5, 6, 7, 8, 9, 10],\n",
    "    \"random_state\": [7]\n",
    "}\n",
    "\n",
    "gsRFC = GridSearchCV(rfc, param_grid=rfc_params, cv=skf, n_jobs=-1, verbose=1)\n",
    "gsRFC.fit(X_train, y_train)"
   ]
  },
  {
   "cell_type": "code",
   "execution_count": 152,
   "metadata": {},
   "outputs": [
    {
     "data": {
      "text/plain": [
       "{'max_depth': 5,\n",
       " 'min_samples_leaf': 2,\n",
       " 'min_samples_split': 10,\n",
       " 'n_estimators': 500,\n",
       " 'random_state': 7,\n",
       " 'warm_start': False}"
      ]
     },
     "execution_count": 152,
     "metadata": {},
     "output_type": "execute_result"
    }
   ],
   "source": [
    "bestRFC = gsRFC.best_estimator_\n",
    "gsRFC.best_params_"
   ]
  },
  {
   "cell_type": "code",
   "execution_count": 153,
   "metadata": {},
   "outputs": [],
   "source": [
    "rfc2_submit = pd.DataFrame({'PassengerId': test['PassengerId'], 'Survived': bestRFC.predict(X_test)})\n",
    "rfc2_submit.to_csv(\"../output/rfc2_submission_kg_.csv\", index=False)"
   ]
  },
  {
   "cell_type": "code",
   "execution_count": 173,
   "metadata": {},
   "outputs": [
    {
     "data": {
      "text/html": [
       "<div>\n",
       "<style>\n",
       "    .dataframe thead tr:only-child th {\n",
       "        text-align: right;\n",
       "    }\n",
       "\n",
       "    .dataframe thead th {\n",
       "        text-align: left;\n",
       "    }\n",
       "\n",
       "    .dataframe tbody tr th {\n",
       "        vertical-align: top;\n",
       "    }\n",
       "</style>\n",
       "<table border=\"1\" class=\"dataframe\">\n",
       "  <thead>\n",
       "    <tr style=\"text-align: right;\">\n",
       "      <th></th>\n",
       "      <th>PassengerId</th>\n",
       "      <th>Pclass</th>\n",
       "      <th>Name</th>\n",
       "      <th>Sex</th>\n",
       "      <th>Age</th>\n",
       "      <th>SibSp</th>\n",
       "      <th>Parch</th>\n",
       "      <th>Ticket</th>\n",
       "      <th>Fare</th>\n",
       "      <th>Cabin</th>\n",
       "      <th>Embarked</th>\n",
       "    </tr>\n",
       "  </thead>\n",
       "  <tbody>\n",
       "    <tr>\n",
       "      <th>33</th>\n",
       "      <td>925</td>\n",
       "      <td>3</td>\n",
       "      <td>Johnston, Mrs. Andrew G (Elizabeth Lily\" Watson)\"</td>\n",
       "      <td>female</td>\n",
       "      <td>35.0</td>\n",
       "      <td>1</td>\n",
       "      <td>2</td>\n",
       "      <td>W./C. 6607</td>\n",
       "      <td>23.4500</td>\n",
       "      <td>NaN</td>\n",
       "      <td>S</td>\n",
       "    </tr>\n",
       "    <tr>\n",
       "      <th>34</th>\n",
       "      <td>926</td>\n",
       "      <td>1</td>\n",
       "      <td>Mock, Mr. Philipp Edmund</td>\n",
       "      <td>male</td>\n",
       "      <td>30.0</td>\n",
       "      <td>1</td>\n",
       "      <td>0</td>\n",
       "      <td>13236</td>\n",
       "      <td>57.7500</td>\n",
       "      <td>C78</td>\n",
       "      <td>C</td>\n",
       "    </tr>\n",
       "    <tr>\n",
       "      <th>98</th>\n",
       "      <td>990</td>\n",
       "      <td>3</td>\n",
       "      <td>Braf, Miss. Elin Ester Maria</td>\n",
       "      <td>female</td>\n",
       "      <td>20.0</td>\n",
       "      <td>0</td>\n",
       "      <td>0</td>\n",
       "      <td>347471</td>\n",
       "      <td>7.8542</td>\n",
       "      <td>NaN</td>\n",
       "      <td>S</td>\n",
       "    </tr>\n",
       "    <tr>\n",
       "      <th>157</th>\n",
       "      <td>1049</td>\n",
       "      <td>3</td>\n",
       "      <td>Lundin, Miss. Olga Elida</td>\n",
       "      <td>female</td>\n",
       "      <td>23.0</td>\n",
       "      <td>0</td>\n",
       "      <td>0</td>\n",
       "      <td>347469</td>\n",
       "      <td>7.8542</td>\n",
       "      <td>NaN</td>\n",
       "      <td>S</td>\n",
       "    </tr>\n",
       "    <tr>\n",
       "      <th>177</th>\n",
       "      <td>1069</td>\n",
       "      <td>1</td>\n",
       "      <td>Stengel, Mr. Charles Emil Henry</td>\n",
       "      <td>male</td>\n",
       "      <td>54.0</td>\n",
       "      <td>1</td>\n",
       "      <td>0</td>\n",
       "      <td>11778</td>\n",
       "      <td>55.4417</td>\n",
       "      <td>C116</td>\n",
       "      <td>C</td>\n",
       "    </tr>\n",
       "    <tr>\n",
       "      <th>234</th>\n",
       "      <td>1126</td>\n",
       "      <td>1</td>\n",
       "      <td>Cumings, Mr. John Bradley</td>\n",
       "      <td>male</td>\n",
       "      <td>39.0</td>\n",
       "      <td>1</td>\n",
       "      <td>0</td>\n",
       "      <td>PC 17599</td>\n",
       "      <td>71.2833</td>\n",
       "      <td>C85</td>\n",
       "      <td>C</td>\n",
       "    </tr>\n",
       "    <tr>\n",
       "      <th>236</th>\n",
       "      <td>1128</td>\n",
       "      <td>1</td>\n",
       "      <td>Warren, Mr. Frank Manley</td>\n",
       "      <td>male</td>\n",
       "      <td>64.0</td>\n",
       "      <td>1</td>\n",
       "      <td>0</td>\n",
       "      <td>110813</td>\n",
       "      <td>75.2500</td>\n",
       "      <td>D37</td>\n",
       "      <td>C</td>\n",
       "    </tr>\n",
       "    <tr>\n",
       "      <th>249</th>\n",
       "      <td>1141</td>\n",
       "      <td>3</td>\n",
       "      <td>Khalil, Mrs. Betros (Zahie Maria\" Elias)\"</td>\n",
       "      <td>female</td>\n",
       "      <td>20.0</td>\n",
       "      <td>1</td>\n",
       "      <td>0</td>\n",
       "      <td>2660</td>\n",
       "      <td>14.4542</td>\n",
       "      <td>NaN</td>\n",
       "      <td>C</td>\n",
       "    </tr>\n",
       "  </tbody>\n",
       "</table>\n",
       "</div>"
      ],
      "text/plain": [
       "     PassengerId  Pclass                                               Name  \\\n",
       "33           925       3  Johnston, Mrs. Andrew G (Elizabeth Lily\" Watson)\"   \n",
       "34           926       1                           Mock, Mr. Philipp Edmund   \n",
       "98           990       3                       Braf, Miss. Elin Ester Maria   \n",
       "157         1049       3                           Lundin, Miss. Olga Elida   \n",
       "177         1069       1                    Stengel, Mr. Charles Emil Henry   \n",
       "234         1126       1                          Cumings, Mr. John Bradley   \n",
       "236         1128       1                           Warren, Mr. Frank Manley   \n",
       "249         1141       3          Khalil, Mrs. Betros (Zahie Maria\" Elias)\"   \n",
       "\n",
       "        Sex   Age  SibSp  Parch      Ticket     Fare Cabin Embarked  \n",
       "33   female  35.0      1      2  W./C. 6607  23.4500   NaN        S  \n",
       "34     male  30.0      1      0       13236  57.7500   C78        C  \n",
       "98   female  20.0      0      0      347471   7.8542   NaN        S  \n",
       "157  female  23.0      0      0      347469   7.8542   NaN        S  \n",
       "177    male  54.0      1      0       11778  55.4417  C116        C  \n",
       "234    male  39.0      1      0    PC 17599  71.2833   C85        C  \n",
       "236    male  64.0      1      0      110813  75.2500   D37        C  \n",
       "249  female  20.0      1      0        2660  14.4542   NaN        C  "
      ]
     },
     "execution_count": 173,
     "metadata": {},
     "output_type": "execute_result"
    }
   ],
   "source": [
    "test[rfc_submit['Survived'] != rfc2_submit['Survived']]"
   ]
  },
  {
   "cell_type": "code",
   "execution_count": 175,
   "metadata": {},
   "outputs": [
    {
     "data": {
      "text/html": [
       "<div>\n",
       "<style>\n",
       "    .dataframe thead tr:only-child th {\n",
       "        text-align: right;\n",
       "    }\n",
       "\n",
       "    .dataframe thead th {\n",
       "        text-align: left;\n",
       "    }\n",
       "\n",
       "    .dataframe tbody tr th {\n",
       "        vertical-align: top;\n",
       "    }\n",
       "</style>\n",
       "<table border=\"1\" class=\"dataframe\">\n",
       "  <thead>\n",
       "    <tr style=\"text-align: right;\">\n",
       "      <th></th>\n",
       "      <th>PassengerId</th>\n",
       "      <th>Survived</th>\n",
       "    </tr>\n",
       "  </thead>\n",
       "  <tbody>\n",
       "    <tr>\n",
       "      <th>33</th>\n",
       "      <td>925</td>\n",
       "      <td>0</td>\n",
       "    </tr>\n",
       "    <tr>\n",
       "      <th>34</th>\n",
       "      <td>926</td>\n",
       "      <td>1</td>\n",
       "    </tr>\n",
       "    <tr>\n",
       "      <th>98</th>\n",
       "      <td>990</td>\n",
       "      <td>0</td>\n",
       "    </tr>\n",
       "    <tr>\n",
       "      <th>157</th>\n",
       "      <td>1049</td>\n",
       "      <td>0</td>\n",
       "    </tr>\n",
       "    <tr>\n",
       "      <th>177</th>\n",
       "      <td>1069</td>\n",
       "      <td>1</td>\n",
       "    </tr>\n",
       "    <tr>\n",
       "      <th>234</th>\n",
       "      <td>1126</td>\n",
       "      <td>1</td>\n",
       "    </tr>\n",
       "    <tr>\n",
       "      <th>236</th>\n",
       "      <td>1128</td>\n",
       "      <td>1</td>\n",
       "    </tr>\n",
       "    <tr>\n",
       "      <th>249</th>\n",
       "      <td>1141</td>\n",
       "      <td>0</td>\n",
       "    </tr>\n",
       "  </tbody>\n",
       "</table>\n",
       "</div>"
      ],
      "text/plain": [
       "     PassengerId  Survived\n",
       "33           925         0\n",
       "34           926         1\n",
       "98           990         0\n",
       "157         1049         0\n",
       "177         1069         1\n",
       "234         1126         1\n",
       "236         1128         1\n",
       "249         1141         0"
      ]
     },
     "execution_count": 175,
     "metadata": {},
     "output_type": "execute_result"
    }
   ],
   "source": [
    "rfc_submit[rfc_submit['Survived'] != rfc2_submit['Survived']]"
   ]
  },
  {
   "cell_type": "code",
   "execution_count": 28,
   "metadata": {},
   "outputs": [
    {
     "name": "stdout",
     "output_type": "stream",
     "text": [
      "Fitting 10 folds for each of 1500 candidates, totalling 15000 fits\n"
     ]
    },
    {
     "name": "stderr",
     "output_type": "stream",
     "text": [
      "[Parallel(n_jobs=-1)]: Done  52 tasks      | elapsed:    1.6s\n",
      "[Parallel(n_jobs=-1)]: Done 352 tasks      | elapsed:   12.1s\n",
      "[Parallel(n_jobs=-1)]: Done 833 tasks      | elapsed:   33.0s\n",
      "[Parallel(n_jobs=-1)]: Done 1183 tasks      | elapsed:   58.7s\n",
      "[Parallel(n_jobs=-1)]: Done 1633 tasks      | elapsed:  1.6min\n",
      "[Parallel(n_jobs=-1)]: Done 2183 tasks      | elapsed:  2.6min\n",
      "[Parallel(n_jobs=-1)]: Done 2833 tasks      | elapsed:  4.1min\n",
      "[Parallel(n_jobs=-1)]: Done 3583 tasks      | elapsed:  6.3min\n",
      "[Parallel(n_jobs=-1)]: Done 4433 tasks      | elapsed:  7.2min\n",
      "[Parallel(n_jobs=-1)]: Done 5383 tasks      | elapsed:  8.3min\n",
      "[Parallel(n_jobs=-1)]: Done 6433 tasks      | elapsed: 10.4min\n",
      "[Parallel(n_jobs=-1)]: Done 7583 tasks      | elapsed: 13.6min\n",
      "[Parallel(n_jobs=-1)]: Done 8833 tasks      | elapsed: 14.6min\n",
      "[Parallel(n_jobs=-1)]: Done 10183 tasks      | elapsed: 17.2min\n",
      "[Parallel(n_jobs=-1)]: Done 11633 tasks      | elapsed: 20.1min\n",
      "[Parallel(n_jobs=-1)]: Done 13183 tasks      | elapsed: 21.9min\n",
      "[Parallel(n_jobs=-1)]: Done 14833 tasks      | elapsed: 26.3min\n",
      "[Parallel(n_jobs=-1)]: Done 15000 out of 15000 | elapsed: 26.7min finished\n"
     ]
    },
    {
     "data": {
      "text/plain": [
       "GridSearchCV(cv=StratifiedKFold(n_splits=10, random_state=None, shuffle=False),\n",
       "       error_score='raise',\n",
       "       estimator=GradientBoostingClassifier(criterion='friedman_mse', init=None,\n",
       "              learning_rate=0.1, loss='deviance', max_depth=3,\n",
       "              max_features=None, max_leaf_nodes=None,\n",
       "              min_impurity_split=1e-07, min_samples_leaf=1,\n",
       "              min_samples_split=2, min_weight_fraction_leaf=0.0,\n",
       "              n_estimators=100, presort='auto', random_state=None,\n",
       "              subsample=1.0, verbose=0, warm_start=False),\n",
       "       fit_params={}, iid=True, n_jobs=-1,\n",
       "       param_grid={'loss': ['deviance'], 'learning_rate': [0.2, 0.1, 0.05, 0.01], 'n_estimators': [100, 200, 500], 'max_depth': [2, 4, 6, 8, 10], 'min_samples_leaf': [2, 4, 6, 8, 10], 'min_samples_split': [2, 4, 6, 8, 10], 'random_state': [7]},\n",
       "       pre_dispatch='2*n_jobs', refit=True, return_train_score=True,\n",
       "       scoring=None, verbose=1)"
      ]
     },
     "execution_count": 28,
     "metadata": {},
     "output_type": "execute_result"
    }
   ],
   "source": [
    "# GradientBoost Tuning\n",
    "gbc = GradientBoostingClassifier()\n",
    "\n",
    "gbc_params = {\n",
    "    \"loss\": ['deviance'],\n",
    "    \"learning_rate\": [0.2, 0.1, 0.05, 0.01],\n",
    "    \"n_estimators\": [100, 200, 500],\n",
    "    \"max_depth\": [2, 4, 6, 8, 10],\n",
    "    \"min_samples_leaf\": [2, 4, 6, 8, 10],\n",
    "    \"min_samples_split\": [2, 4, 6, 8, 10],\n",
    "    \"random_state\": [7]\n",
    "}\n",
    "\n",
    "gsGBC = GridSearchCV(gbc, param_grid=gbc_params, cv=skf, n_jobs=-1, verbose=1)\n",
    "gsGBC.fit(X_train, y_train)"
   ]
  },
  {
   "cell_type": "code",
   "execution_count": 34,
   "metadata": {},
   "outputs": [
    {
     "data": {
      "text/plain": [
       "{'learning_rate': 0.1,\n",
       " 'loss': 'deviance',\n",
       " 'max_depth': 4,\n",
       " 'min_samples_leaf': 2,\n",
       " 'min_samples_split': 2,\n",
       " 'n_estimators': 100,\n",
       " 'random_state': 7}"
      ]
     },
     "execution_count": 34,
     "metadata": {},
     "output_type": "execute_result"
    }
   ],
   "source": [
    "bestGBC = gsGBC.best_estimator_\n",
    "gsGBC.best_params_"
   ]
  },
  {
   "cell_type": "code",
   "execution_count": 49,
   "metadata": {
    "collapsed": true
   },
   "outputs": [],
   "source": [
    "gbc_submit = pd.DataFrame({'PassengerId': test['PassengerId'], 'Survived': bestGBC.predict(X_test)})\n",
    "gbc_submit.to_csv(\"../output/gbc_submission_kg_.csv\", index=False)"
   ]
  },
  {
   "cell_type": "code",
   "execution_count": 48,
   "metadata": {},
   "outputs": [
    {
     "data": {
      "text/plain": [
       "True     390\n",
       "False     28\n",
       "Name: Survived, dtype: int64"
      ]
     },
     "execution_count": 48,
     "metadata": {},
     "output_type": "execute_result"
    }
   ],
   "source": [
    "(gbc_submit['Survived'] == rfc_submit['Survived']).value_counts()"
   ]
  },
  {
   "cell_type": "code",
   "execution_count": null,
   "metadata": {
    "collapsed": true
   },
   "outputs": [],
   "source": []
  }
 ],
 "metadata": {
  "kernelspec": {
   "display_name": "Python 3",
   "language": "python",
   "name": "python3"
  },
  "language_info": {
   "codemirror_mode": {
    "name": "ipython",
    "version": 3
   },
   "file_extension": ".py",
   "mimetype": "text/x-python",
   "name": "python",
   "nbconvert_exporter": "python",
   "pygments_lexer": "ipython3",
   "version": "3.6.1"
  }
 },
 "nbformat": 4,
 "nbformat_minor": 2
}
