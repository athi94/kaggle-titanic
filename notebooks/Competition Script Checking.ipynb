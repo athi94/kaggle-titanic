{
 "cells": [
  {
   "cell_type": "code",
   "execution_count": 1,
   "metadata": {
    "collapsed": true
   },
   "outputs": [],
   "source": [
    "import numpy as np\n",
    "import pandas as pd\n",
    "import seaborn as sns\n",
    "import pprint\n",
    "from sklearn.ensemble import RandomForestClassifier, AdaBoostClassifier, GradientBoostingClassifier, VotingClassifier\n",
    "from sklearn.svm import SVC\n",
    "from sklearn.model_selection import cross_val_score, StratifiedKFold, GridSearchCV\n",
    "from sklearn.preprocessing import MinMaxScaler"
   ]
  },
  {
   "cell_type": "code",
   "execution_count": 2,
   "metadata": {
    "collapsed": true
   },
   "outputs": [],
   "source": [
    "class FeatureEngineering():\n",
    "    def __init__(self):\n",
    "        self._cabinKnown = False\n",
    "        self._title = False\n",
    "        self._familySize = False\n",
    "        self._isMinor = False\n",
    "        self._isMinorThresh = 0\n",
    "\n",
    "    def _familyCategorise(self, s):\n",
    "        if s>= 4:\n",
    "            return 'large'\n",
    "        if s == 0:\n",
    "            return 'alone'\n",
    "        if s > 0 and s < 4:\n",
    "            return 'normal'\n",
    "    \n",
    "\n",
    "    def cabinKnown(self, df):\n",
    "        self._cabinKnown = True\n",
    "        return pd.Categorical(df['Cabin'].isnull() == False)\n",
    "\n",
    "\n",
    "    def title(self, df):\n",
    "        self._title = True\n",
    "        titles = df['Name'].str.split(\", \", expand=True)[1].str.split(\".\", expand=True)[0]\n",
    "\n",
    "        mr_alias = ['Don', 'Rev', 'Dr', 'Major', 'Sir', 'Col', 'Capt', 'Jonkheer']\n",
    "        miss_alias = ['Mlle', 'Ms']\n",
    "        mrs_alias = ['Mme', 'Lady', 'the Countess', 'Dona']\n",
    "\n",
    "        titles[titles.isin(mr_alias)] = 'Mr'\n",
    "        titles[titles.isin(miss_alias)] = 'Miss'\n",
    "        titles[titles.isin(mrs_alias)] = 'Mrs'\n",
    "        return titles.astype('category')\n",
    "\n",
    "\n",
    "    def familySize(self, df):\n",
    "        self._familySize = True\n",
    "        family = df['Parch'] + df['SibSp']\n",
    "        return pd.Categorical(list(map(self._familyCategorise, family)), ordered=True)\n",
    "\n",
    "\n",
    "    def isMinor(self, df, threshold):\n",
    "        # Try thresholds 14 and 9 to start off with, aim is to balanced \n",
    "        # maximising difference between groups while also capturing \n",
    "        # most information possible\n",
    "        self._isMinor = True\n",
    "        self._isMinorThresh = threshold\n",
    "        return pd.Categorical(np.digitize(df['Age'], [threshold, 0]))\n",
    "\n",
    "\n",
    "    def getSummary(self):\n",
    "        s = \"cabinKnown:\\t\\t{}\\ntitle:\\t\\t\\t{}\\nfamilySize:\\t\\t{}\\nisMinor (age < {}):\\t{}\".format(\n",
    "            self._cabinKnown, self._title, self._familySize, self._isMinorThresh, self._isMinor)\n",
    "        \n",
    "        return s"
   ]
  },
  {
   "cell_type": "code",
   "execution_count": 3,
   "metadata": {
    "collapsed": true
   },
   "outputs": [],
   "source": [
    "FE = FeatureEngineering()\n",
    "pp = pprint.PrettyPrinter(indent=4)\n",
    "\n",
    "def engineer_features(df):\n",
    "    print(\"Engineering Features...\")\n",
    "    ndf = df.copy()\n",
    "    ndf['CabinKnown'] = FE.cabinKnown(ndf)\n",
    "    ndf['Title'] = FE.title(ndf)\n",
    "    ndf['FamilySize'] = FE.familySize(ndf)\n",
    "    ndf['IsMinor'] = FE.isMinor(ndf, 14)\n",
    "    print(''.join(['\\t' + ln for ln in FE.getSummary().splitlines(True)]))\n",
    "    return ndf\n",
    "\n",
    "\n",
    "def fill_missing(df):\n",
    "    print(\"Filling missing values ...\")\n",
    "    ndf = df.copy()\n",
    "    # Fill missing Fare with median of the corresponding Passenger Class\n",
    "    missing_fares = ndf[ndf['Fare'].isnull()].index.tolist()\n",
    "\n",
    "    for fare in missing_fares:\n",
    "        pclass = ndf.iloc[fare]['Pclass']\n",
    "        ndf.set_value(fare, 'Fare', ndf[ndf['Pclass'] == pclass]['Fare'].mean())\n",
    "\n",
    "    print('\\tFare:\\t\\t\\tMean of Corresponding Pclass')\n",
    "\n",
    "    # Fill missing locations with most common\n",
    "    missing_embarks = ndf[ndf['Embarked'].isnull()].index.tolist()\n",
    "    mcl = ndf['Embarked'].value_counts().idxmax()\n",
    "    for eb in missing_embarks:\n",
    "        ndf.set_value(eb, 'Embarked', mcl)\n",
    "\n",
    "    print('\\tEmbarked:\\t\\tMode of Embarked')\n",
    "    return ndf\n",
    "\n",
    "\n",
    "def transform_features(df):\n",
    "    print(\"Transforming features...\")\n",
    "    ndf = df.copy()\n",
    "    ndf['Fare'] = df[\"Fare\"].map(lambda i: np.log(i) if i > 0 else 0)\n",
    "    print(\"\\tFare:\\t\\t\\tlog\")\n",
    "    return ndf\n",
    "\n",
    "\n",
    "def prep_data_for_tree_model(df):\n",
    "    print(\"Prepping data for model training... no dummies, all cat to codes\")\n",
    "    ndf = pd.DataFrame(df['PassengerId'])\n",
    "    # Pclass (ordered cat)\n",
    "    ndf['Pclass'] = pd.to_numeric(df['Pclass'])\n",
    "    # Sex (binary cat)\n",
    "    ndf['IsMale'] = df['Sex'].cat.codes\n",
    "    # Fare (num)\n",
    "    ndf['Fare'] = df['Fare']\n",
    "    # Embarked (unordered multilevel cat)\n",
    "    ndf['Embarked'] = df['Embarked'].cat.codes\n",
    "    # CabinKnown (binary cat)\n",
    "    ndf['CabinKnown'] = df['CabinKnown'].cat.codes\n",
    "    # Title (unordered multilevel cat)\n",
    "    ndf['Title'] = df['Title'].cat.codes\n",
    "    # FamilySize (ordered cat)\n",
    "    ndf['FamilySize'] = df['FamilySize'].cat.codes\n",
    "    # isMinor (binary cat)\n",
    "    ndf['IsMinor'] = df['IsMinor'].cat.codes\n",
    "    return ndf\n",
    "\n",
    "\n",
    "def prep_data_for_sv_model(df):\n",
    "    print(\"Prepping data for scale variant model training...\")\n",
    "    ndf = pd.DataFrame(df['PassengerId'])\n",
    "    # Pclass (ordered cat)\n",
    "    ndf = pd.concat([ndf, pd.get_dummies(df['Pclass'], prefix='Pclass')], axis=1)\n",
    "    # Sex (binary cat)\n",
    "    ndf = pd.concat([ndf, pd.get_dummies(df['Sex'], prefix='Sex')], axis=1)\n",
    "    # Fare (num)\n",
    "    ndf['Fare'] = df['Fare']\n",
    "    # Embarked (unordered multilevel cat)\n",
    "    ndf = pd.concat([ndf, pd.get_dummies(df['Embarked'], prefix='Embarked')], axis=1)\n",
    "    # CabinKnown (binary cat)\n",
    "    ndf = pd.concat([ndf, pd.get_dummies(df['CabinKnown'], prefix='CabinKnown')], axis=1)\n",
    "    # Title (unordered multilevel cat)\n",
    "    ndf = pd.concat([ndf, pd.get_dummies(df['Title'], prefix='Title')], axis=1)\n",
    "    # FamilySize (ordered multilevel cat)\n",
    "    ndf = pd.concat([ndf, pd.get_dummies(df['FamilySize'], prefix='FamilySize')], axis=1)\n",
    "    # isMinor (binary cat)\n",
    "    ndf = pd.concat([ndf, pd.get_dummies(df['IsMinor'], prefix='IsMinor')], axis=1)\n",
    "    return ndf\n",
    "\n",
    "\n",
    "def coerce_types(df):\n",
    "    ndf = df.copy()\n",
    "    ndf.Pclass = ndf.Pclass.astype(\"category\", categories=[1, 2, 3], ordered=True)\n",
    "    ndf.Sex = ndf.Sex.astype(\"category\")\n",
    "    ndf.Embarked = ndf.Embarked.astype(\"category\")\n",
    "    return ndf\n",
    "\n",
    "\n",
    "def naSummary(df):\n",
    "    return df.isnull().sum()"
   ]
  },
  {
   "cell_type": "code",
   "execution_count": 4,
   "metadata": {},
   "outputs": [
    {
     "name": "stdout",
     "output_type": "stream",
     "text": [
      "Engineering Features...\n",
      "\tcabinKnown:\t\tTrue\n",
      "\ttitle:\t\t\tTrue\n",
      "\tfamilySize:\t\tTrue\n",
      "\tisMinor (age < 14):\tTrue\n",
      "Filling missing values ...\n",
      "\tFare:\t\t\tMean of Corresponding Pclass\n",
      "\tEmbarked:\t\tMode of Embarked\n",
      "Transforming features...\n",
      "\tFare:\t\t\tlog\n",
      "Prepping data for model training... no dummies, all cat to codes\n",
      "Prepping data for scale variant model training...\n"
     ]
    }
   ],
   "source": [
    "train = pd.read_csv('../input/train_pp.csv')\n",
    "test = pd.read_csv('../input/test_pp.csv')\n",
    "\n",
    "combine = pd.concat([train.drop('Survived', 1), test])\n",
    "combine.reset_index(inplace=True, drop=True) \n",
    "combine = coerce_types(combine)\n",
    "\n",
    "combine = engineer_features(combine)\n",
    "combine = fill_missing(combine)\n",
    "\n",
    "combine = transform_features(combine)\n",
    "combine_tree = prep_data_for_tree_model(combine)\n",
    "\n",
    "combine_svm = prep_data_for_sv_model(combine)\n",
    "\n",
    "X_train = combine_tree[:len(train)].drop('PassengerId', axis=1)\n",
    "X_test = combine_tree[len(train):].drop('PassengerId', axis=1)\n",
    "y_train = train['Survived']"
   ]
  },
  {
   "cell_type": "code",
   "execution_count": 5,
   "metadata": {
    "collapsed": true
   },
   "outputs": [],
   "source": [
    "seed = 7\n",
    "folds = 10\n",
    "\n",
    "skf = StratifiedKFold(n_splits=folds)"
   ]
  },
  {
   "cell_type": "code",
   "execution_count": 6,
   "metadata": {},
   "outputs": [
    {
     "name": "stdout",
     "output_type": "stream",
     "text": [
      "Fitting 10 folds for each of 125 candidates, totalling 1250 fits\n"
     ]
    },
    {
     "name": "stderr",
     "output_type": "stream",
     "text": [
      "[Parallel(n_jobs=-1)]: Done  34 tasks      | elapsed:    2.3s\n",
      "[Parallel(n_jobs=-1)]: Done 184 tasks      | elapsed:   10.0s\n",
      "[Parallel(n_jobs=-1)]: Done 434 tasks      | elapsed:   22.7s\n",
      "[Parallel(n_jobs=-1)]: Done 784 tasks      | elapsed:   42.1s\n",
      "[Parallel(n_jobs=-1)]: Done 1234 tasks      | elapsed:  1.1min\n",
      "[Parallel(n_jobs=-1)]: Done 1250 out of 1250 | elapsed:  1.1min finished\n"
     ]
    }
   ],
   "source": [
    "# RandomForest Tuning\n",
    "rfc = RandomForestClassifier()\n",
    "\n",
    "rfc_params = {\n",
    "    \"max_depth\": [4, 5, 6, 7, 8],\n",
    "    \"warm_start\": [False],\n",
    "    \"n_estimators\": [150],\n",
    "    \"min_samples_leaf\": [2, 3, 4, 5, 6],\n",
    "    \"min_samples_split\": [2, 3, 4, 5, 6],\n",
    "    \"random_state\": [seed]\n",
    "}\n",
    "\n",
    "gsRFC = GridSearchCV(rfc, param_grid=rfc_params, cv=skf, n_jobs=-1, verbose=1)\n",
    "_ = gsRFC.fit(X_train, y_train)"
   ]
  },
  {
   "cell_type": "code",
   "execution_count": 7,
   "metadata": {},
   "outputs": [
    {
     "name": "stdout",
     "output_type": "stream",
     "text": [
      "RFC Best Params:\n",
      "{   'max_depth': 7,\n",
      "    'min_samples_leaf': 5,\n",
      "    'min_samples_split': 2,\n",
      "    'n_estimators': 150,\n",
      "    'random_state': 7,\n",
      "    'warm_start': False}\n",
      "'RFC best score: 0.8372615039281706'\n"
     ]
    }
   ],
   "source": [
    "print(\"RFC Best Params:\")\n",
    "pp.pprint(gsRFC.best_params_)\n",
    "pp.pprint(\"RFC best score: {}\".format(gsRFC.best_score_))"
   ]
  },
  {
   "cell_type": "code",
   "execution_count": 8,
   "metadata": {},
   "outputs": [
    {
     "name": "stdout",
     "output_type": "stream",
     "text": [
      "Fitting 10 folds for each of 600 candidates, totalling 6000 fits\n"
     ]
    },
    {
     "name": "stderr",
     "output_type": "stream",
     "text": [
      "[Parallel(n_jobs=-1)]: Done  52 tasks      | elapsed:    2.0s\n",
      "[Parallel(n_jobs=-1)]: Done 352 tasks      | elapsed:   11.8s\n",
      "[Parallel(n_jobs=-1)]: Done 852 tasks      | elapsed:   32.4s\n",
      "[Parallel(n_jobs=-1)]: Done 1312 tasks      | elapsed:   58.6s\n",
      "[Parallel(n_jobs=-1)]: Done 1762 tasks      | elapsed:  1.5min\n",
      "[Parallel(n_jobs=-1)]: Done 2312 tasks      | elapsed:  1.9min\n",
      "[Parallel(n_jobs=-1)]: Done 2962 tasks      | elapsed:  2.4min\n",
      "[Parallel(n_jobs=-1)]: Done 3712 tasks      | elapsed:  3.2min\n",
      "[Parallel(n_jobs=-1)]: Done 4562 tasks      | elapsed:  3.8min\n",
      "[Parallel(n_jobs=-1)]: Done 5512 tasks      | elapsed:  4.7min\n",
      "[Parallel(n_jobs=-1)]: Done 6000 out of 6000 | elapsed:  5.3min finished\n"
     ]
    }
   ],
   "source": [
    "# GradientBoost Tuning\n",
    "gbc = GradientBoostingClassifier()\n",
    "\n",
    "gbc_params = {\n",
    "    \"loss\": ['deviance'],\n",
    "    \"learning_rate\": [0.15, 0.1, 0.05],\n",
    "    \"n_estimators\": [100, 200],\n",
    "    \"max_depth\": [4, 5, 6, 7],\n",
    "    \"min_samples_leaf\": [2, 3, 4, 5, 6],\n",
    "    \"min_samples_split\": [2, 3, 4, 5, 6],\n",
    "    \"random_state\": [seed]\n",
    "}\n",
    "\n",
    "gsGBC = GridSearchCV(gbc, param_grid=gbc_params, cv=skf, n_jobs=-1, verbose=1)\n",
    "_ = gsGBC.fit(X_train, y_train)"
   ]
  },
  {
   "cell_type": "code",
   "execution_count": 9,
   "metadata": {},
   "outputs": [
    {
     "name": "stdout",
     "output_type": "stream",
     "text": [
      "GBC Best Params:\n",
      "{   'learning_rate': 0.1,\n",
      "    'loss': 'deviance',\n",
      "    'max_depth': 4,\n",
      "    'min_samples_leaf': 2,\n",
      "    'min_samples_split': 2,\n",
      "    'n_estimators': 100,\n",
      "    'random_state': 7}\n",
      "'GBC best score: 0.8417508417508418'\n"
     ]
    }
   ],
   "source": [
    "print(\"GBC Best Params:\")\n",
    "pp.pprint(gsGBC.best_params_)\n",
    "pp.pprint(\"GBC best score: {}\".format(gsGBC.best_score_))"
   ]
  },
  {
   "cell_type": "code",
   "execution_count": 10,
   "metadata": {},
   "outputs": [
    {
     "name": "stdout",
     "output_type": "stream",
     "text": [
      "Fitting 10 folds for each of 200 candidates, totalling 2000 fits\n"
     ]
    },
    {
     "name": "stderr",
     "output_type": "stream",
     "text": [
      "[Parallel(n_jobs=-1)]: Done  34 tasks      | elapsed:    2.2s\n",
      "[Parallel(n_jobs=-1)]: Done 184 tasks      | elapsed:   10.7s\n",
      "[Parallel(n_jobs=-1)]: Done 434 tasks      | elapsed:   26.1s\n",
      "[Parallel(n_jobs=-1)]: Done 784 tasks      | elapsed:   47.4s\n",
      "[Parallel(n_jobs=-1)]: Done 1234 tasks      | elapsed:  1.3min\n",
      "[Parallel(n_jobs=-1)]: Done 1784 tasks      | elapsed:  1.9min\n",
      "[Parallel(n_jobs=-1)]: Done 2000 out of 2000 | elapsed:  2.1min finished\n"
     ]
    }
   ],
   "source": [
    "# AdaBoost Tuning\n",
    "abc = AdaBoostClassifier()\n",
    "\n",
    "abc_params = {\n",
    "    \"n_estimators\": [100, 200],\n",
    "    \"learning_rate\": np.linspace(0.01, 1, num=100),\n",
    "    \"random_state\": [seed]\n",
    "}\n",
    "\n",
    "gsABC = GridSearchCV(abc, param_grid=abc_params, cv=skf, n_jobs=-1, verbose=1)\n",
    "_ = gsABC.fit(X_train, y_train)"
   ]
  },
  {
   "cell_type": "code",
   "execution_count": 11,
   "metadata": {},
   "outputs": [
    {
     "name": "stdout",
     "output_type": "stream",
     "text": [
      "ABC Best Params:\n",
      "{'learning_rate': 0.17000000000000001, 'n_estimators': 200, 'random_state': 7}\n",
      "'ABC best score: 0.835016835016835'\n"
     ]
    }
   ],
   "source": [
    "print(\"ABC Best Params:\")\n",
    "pp.pprint(gsABC.best_params_)\n",
    "pp.pprint(\"ABC best score: {}\".format(gsABC.best_score_))"
   ]
  },
  {
   "cell_type": "code",
   "execution_count": 12,
   "metadata": {},
   "outputs": [
    {
     "name": "stdout",
     "output_type": "stream",
     "text": [
      "Scoring...  RandomForest  AdaBoost  GradientBoosting  "
     ]
    }
   ],
   "source": [
    "scores = pd.DataFrame(columns=['Model', 'CV Score'])\n",
    "\n",
    "classifiers = {\n",
    "    'RandomForest': gsRFC.best_estimator_,\n",
    "    'AdaBoost': gsABC.best_estimator_,\n",
    "    'GradientBoosting': gsGBC.best_estimator_\n",
    "}\n",
    "\n",
    "print(\"Scoring...  \", end='')\n",
    "for c in classifiers:\n",
    "    print(c, end='  ')\n",
    "    mdl_scores = cross_val_score(classifiers[c], X=X_train, y=y_train, cv=skf, n_jobs=-1)\n",
    "    scores = scores.append(pd.DataFrame({'Model': np.repeat(c, folds), 'CV Score': mdl_scores}))"
   ]
  },
  {
   "cell_type": "code",
   "execution_count": 13,
   "metadata": {},
   "outputs": [
    {
     "data": {
      "image/png": "[encoded data removed]",
      "text/plain": [
       "<matplotlib.figure.Figure at 0x115c43b00>"
      ]
     },
     "metadata": {},
     "output_type": "display_data"
    }
   ],
   "source": [
    "%matplotlib inline\n",
    "p = sns.barplot(x='CV Score', y='Model', ci=\"sd\", data=scores)\n",
    "_ = p.set_xlim(0.7, 0.9)"
   ]
  },
  {
   "cell_type": "code",
   "execution_count": 14,
   "metadata": {
    "collapsed": true
   },
   "outputs": [],
   "source": [
    "vc = VotingClassifier(estimators=[\n",
    "    ('rfc', gsRFC.best_estimator_),\n",
    "    ('adac', gsABC.best_estimator_),\n",
    "    ('gbc', gsGBC.best_estimator_)\n",
    "    ], voting='soft', n_jobs=-1)\n",
    "\n",
    "vc.fit(X_train, y_train)\n",
    "vc_preds = vc.predict(X_test)"
   ]
  },
  {
   "cell_type": "code",
   "execution_count": 15,
   "metadata": {
    "collapsed": true
   },
   "outputs": [],
   "source": [
    "bestRFC = gsRFC.best_estimator_\n",
    "bestABC = gsABC.best_estimator_\n",
    "bestGBC = gsGBC.best_estimator_\n",
    "\n",
    "bestRFC.fit(X_train, y_train)\n",
    "bestABC.fit(X_train, y_train)\n",
    "bestGBC.fit(X_train, y_train)\n",
    "\n",
    "rf_preds = bestRFC.predict(X_test)\n",
    "ab_preds = bestABC.predict(X_test)\n",
    "gb_preds = bestGBC.predict(X_test)"
   ]
  },
  {
   "cell_type": "code",
   "execution_count": 16,
   "metadata": {},
   "outputs": [
    {
     "data": {
      "image/png": "[encoded data removed]",
      "text/plain": [
       "<matplotlib.figure.Figure at 0x116a69630>"
      ]
     },
     "metadata": {},
     "output_type": "display_data"
    }
   ],
   "source": [
    "all_preds = pd.DataFrame({'RF': rf_preds, 'AB': ab_preds, 'GB': gb_preds})\n",
    "_ = sns.heatmap(all_preds.corr(), annot=True)"
   ]
  },
  {
   "cell_type": "code",
   "execution_count": 17,
   "metadata": {},
   "outputs": [],
   "source": [
    "vc_submit = pd.DataFrame({'PassengerId': test['PassengerId'], 'Survived': vc_preds})\n",
    "rf_submit = pd.DataFrame({'PassengerId': test['PassengerId'], 'Survived': rf_preds})\n",
    "ab_submit = pd.DataFrame({'PassengerId': test['PassengerId'], 'Survived': ab_preds})\n",
    "gb_submit = pd.DataFrame({'PassengerId': test['PassengerId'], 'Survived': gb_preds})\n",
    "\n",
    "vc_submit.to_csv(\"../output/vc_.csv\", index=False)\n",
    "rf_submit.to_csv(\"../output/rf_.csv\", index=False)\n",
    "ab_submit.to_csv(\"../output/ab_.csv\", index=False)\n",
    "gb_submit.to_csv(\"../output/gb_.csv\", index=False)"
   ]
  }
 ],
 "metadata": {
  "kernelspec": {
   "display_name": "Python 3",
   "language": "python",
   "name": "python3"
  },
  "language_info": {
   "codemirror_mode": {
    "name": "ipython",
    "version": 3
   },
   "file_extension": ".py",
   "mimetype": "text/x-python",
   "name": "python",
   "nbconvert_exporter": "python",
   "pygments_lexer": "ipython3",
   "version": "3.6.1"
  }
 },
 "nbformat": 4,
 "nbformat_minor": 2
}
